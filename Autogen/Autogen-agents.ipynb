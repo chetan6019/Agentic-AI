{
 "cells": [
  {
   "cell_type": "code",
   "execution_count": 1,
   "id": "2d808f77",
   "metadata": {},
   "outputs": [],
   "source": [
    "from autogen_agentchat.agents import AssistantAgent\n",
    "from autogen_ext.models.openai import OpenAIChatCompletionClient\n",
    "from dotenv import load_dotenv\n",
    "import os\n",
    "\n",
    "load_dotenv()\n",
    "api_key = os.getenv(\"OPENAI_API_KEY\")"
   ]
  },
  {
   "cell_type": "markdown",
   "id": "f5c3bd08",
   "metadata": {},
   "source": [
    "# Connecting to the Model"
   ]
  },
  {
   "cell_type": "code",
   "execution_count": 2,
   "id": "4bd3ff34",
   "metadata": {},
   "outputs": [],
   "source": [
    "model_client = OpenAIChatCompletionClient(model=\"gpt-4o\", api_key=api_key)"
   ]
  },
  {
   "cell_type": "code",
   "execution_count": 3,
   "metadata": {},
   "outputs": [],
   "source": [
    "my_assistant = AssistantAgent(name='my_assistant',model_client=model_client)"
   ]
  },
  {
   "cell_type": "code",
   "execution_count": 5,
   "id": "6e8c1aff",
   "metadata": {},
   "outputs": [],
   "source": [
    "result = await my_assistant.run(task=\"Tell me about yourself ?\")"
   ]
  },
  {
   "cell_type": "code",
   "execution_count": null,
   "metadata": {},
   "outputs": [
    {
     "name": "stdout",
     "output_type": "stream",
     "text": [
      "messages=[TextMessage(id='8902e163-6d4f-43a1-a486-eb54f4d1e674', source='user', models_usage=None, metadata={}, created_at=datetime.datetime(2025, 7, 23, 17, 2, 46, 11654, tzinfo=datetime.timezone.utc), content='Tell me about yourself ?', type='TextMessage'), TextMessage(id='a5bdafa0-acf9-4953-9bfd-2e052c0bc01d', source='my_assistant', models_usage=RequestUsage(prompt_tokens=41, completion_tokens=93), metadata={}, created_at=datetime.datetime(2025, 7, 23, 17, 2, 54, 61104, tzinfo=datetime.timezone.utc), content=\"I am an AI developed to assist with a wide range of tasks such as answering questions, providing explanations, offering recommendations, and solving problems. My capabilities include understanding and generating human-like text based on the input I receive. I'm trained on diverse datasets, enabling me to perform tasks in various domains like language, science, technology, and much more. My main goal is to provide informative, accurate, and helpful responses to user queries. How can I assist you today?\", type='TextMessage')] stop_reason=None\n"
     ]
    },
    {
     "ename": "",
     "evalue": "",
     "output_type": "error",
     "traceback": [
      "\u001b[1;31mThe Kernel crashed while executing code in the current cell or a previous cell. \n",
      "\u001b[1;31mPlease review the code in the cell(s) to identify a possible cause of the failure. \n",
      "\u001b[1;31mClick <a href='https://aka.ms/vscodeJupyterKernelCrash'>here</a> for more info. \n",
      "\u001b[1;31mView Jupyter <a href='command:jupyter.viewOutput'>log</a> for further details."
     ]
    }
   ],
   "source": [
    "print(result)"
   ]
  },
  {
   "cell_type": "code",
   "execution_count": null,
   "metadata": {},
   "outputs": [],
   "source": []
  },
  {
   "cell_type": "code",
   "execution_count": null,
   "metadata": {},
   "outputs": [],
   "source": []
  },
  {
   "cell_type": "code",
   "execution_count": null,
   "metadata": {},
   "outputs": [],
   "source": []
  },
  {
   "cell_type": "code",
   "execution_count": null,
   "id": "925c3079",
   "metadata": {},
   "outputs": [],
   "source": []
  }
 ],
 "metadata": {
  "kernelspec": {
   "display_name": "autogen-venv (3.12.10)",
   "language": "python",
   "name": "python3"
  },
  "language_info": {
   "codemirror_mode": {
    "name": "ipython",
    "version": 3
   },
   "file_extension": ".py",
   "mimetype": "text/x-python",
   "name": "python",
   "nbconvert_exporter": "python",
   "pygments_lexer": "ipython3",
   "version": "3.12.10"
  }
 },
 "nbformat": 4,
 "nbformat_minor": 5
}
