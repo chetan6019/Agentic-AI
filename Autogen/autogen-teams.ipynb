{
 "cells": [
  {
   "cell_type": "markdown",
   "id": "73aff323",
   "metadata": {},
   "source": [
    "# Teams\n",
    "### A team is a group of agents that work together to achieve a common goal.\n",
    "### AgentChat supports several team presets:\n",
    "### 1. RoundRobinGroupChat: A team that runs a group chat with participants taking turns in a round-robin fashion\n",
    "### 2. SelectorGroupChat: A team that selects the next speaker using a ChatCompletion model after each message.\n",
    "### 3. MagneticOneGroupChat: A generalist multi-agent system for solving open-ended web and file-based tasks across a variety of domains.\n",
    "### 4. Swarm: A team that uses HandoffMessage to signal transitions between agents."
   ]
  },
  {
   "cell_type": "markdown",
   "id": "79e03703",
   "metadata": {},
   "source": [
    "# Creating a team using RoundRobinGroupChat\n"
   ]
  },
  {
   "cell_type": "code",
   "execution_count": 3,
   "id": "b6a432ff",
   "metadata": {},
   "outputs": [],
   "source": [
    "import os\n",
    "import asyncio\n",
    "from autogen_agentchat.agents import AssistantAgent \n",
    "from autogen_agentchat.messages import StructuredMessage\n",
    "from autogen_agentchat.base import TaskResult\n",
    "from autogen_agentchat.conditions import ExternalTermination, TextMentionTermination\n",
    "from autogen_agentchat.teams import RoundRobinGroupChat\n",
    "from autogen_agentchat.ui import Console\n",
    "from autogen_core import CancellationToken\n",
    "from autogen_ext.models.openai import OpenAIChatCompletionClient\n",
    "from dotenv import load_dotenv\n",
    "\n",
    "load_dotenv()\n",
    "\n",
    "api_key = os.getenv(\"OPENAI_API_KEY\")"
   ]
  },
  {
   "cell_type": "code",
   "execution_count": 7,
   "id": "bdfe9233",
   "metadata": {},
   "outputs": [],
   "source": [
    "# Creat an OpenAI model client\n",
    "model_client = OpenAIChatCompletionClient(model=\"gpt-4o-mini\", api_key=api_key)"
   ]
  },
  {
   "cell_type": "code",
   "execution_count": 8,
   "id": "c39270c4",
   "metadata": {},
   "outputs": [],
   "source": [
    "# Create a primary agent.\n",
    "primary_agent = AssistantAgent(\n",
    "    \"primary\",\n",
    "    model_client=model_client,\n",
    "    system_message=\"You are a helpful AI assistant.\"\n",
    ")"
   ]
  },
  {
   "cell_type": "code",
   "execution_count": 9,
   "id": "35228d20",
   "metadata": {},
   "outputs": [],
   "source": [
    "# Create a critic agent\n",
    "critic_agent = AssistantAgent(\n",
    "    \"critic\",\n",
    "    model_client=model_client,\n",
    "    system_message=\"Provide constructive feedback. Respond with 'APPROVE' to when your feedbacks are addressed.\"\n",
    ")"
   ]
  },
  {
   "cell_type": "code",
   "execution_count": 10,
   "id": "d87bcb36",
   "metadata": {},
   "outputs": [],
   "source": [
    "# Define a termination condition that stops the task if the critic approves.\n",
    "text_termination = TextMentionTermination(\"APPROVE\")\n",
    "\n",
    "# Create a team with the primary and critic agent.\n",
    "team = RoundRobinGroupChat([primary_agent,critic_agent], termination_condition=text_termination)"
   ]
  },
  {
   "cell_type": "markdown",
   "id": "dc428ff5",
   "metadata": {},
   "source": [
    "# Running a team #"
   ]
  },
  {
   "cell_type": "code",
   "execution_count": 11,
   "id": "87c246d9",
   "metadata": {},
   "outputs": [
    {
     "name": "stdout",
     "output_type": "stream",
     "text": [
      "This revised version is a wonderful transformation! You’ve effectively addressed the feedback and enhanced the poem’s depth and imagery. Here are some points where you've excelled and a couple of additional suggestions:\n",
      "\n",
      "1. **Imagery and Detail**: The imagery is much richer and more varied now. Phrases like \"a tapestry woven where days gently yawn\" offer a fresh perspective on the fall season that is both visual and emotive.\n",
      "\n",
      "2. **Emotional Reflection**: The addition of personal and shared experiences, such as gathering apples and sharing stories by the fire, creates a stronger emotional connection with readers. This aspect really shines now.\n",
      "\n",
      "3. **Line Variation**: The varied line lengths add a nice dynamism to the poem and enhance the reading experience by creating a natural ebb and flow.\n",
      "\n",
      "4. **Unique Expressions**: You’ve introduced some beautiful, unique phrases (e.g., \"the crackle of firelight paints shadows that sway\") that elevate the poem’s originality and magic.\n",
      "\n",
      "Overall, this revised poem beautifully captures the spirit of fall and its emotional depth. If I were to suggest one more thing, it could be to explore the final stanza further, possibly expanding it to encapsulate more of the season’s essence or personal reflection before concluding. However, it already works wonderfully as is.\n",
      "\n",
      "Great job on the revisions! APPROVE\n"
     ]
    }
   ],
   "source": [
    "result = await team.run(task=\"Write a poem about the fall season.\")\n",
    "print(result.messages[-1].content)"
   ]
  },
  {
   "cell_type": "markdown",
   "id": "28f3aaea",
   "metadata": {},
   "source": [
    "# Observing a team \\#"
   ]
  },
  {
   "cell_type": "code",
   "execution_count": 12,
   "id": "6505e185",
   "metadata": {},
   "outputs": [
    {
     "name": "stdout",
     "output_type": "stream",
     "text": [
      "id='dc6b9370-56c9-4895-bee3-6b6a78e16e8f' source='user' models_usage=None metadata={} created_at=datetime.datetime(2025, 8, 2, 19, 18, 39, 348666, tzinfo=datetime.timezone.utc) content='Write a poem about the fall season' type='TextMessage'\n",
      "id='e161a1cc-e38c-46be-a0bd-65bb7b9a5276' source='primary' models_usage=RequestUsage(prompt_tokens=26, completion_tokens=247) metadata={} created_at=datetime.datetime(2025, 8, 2, 19, 18, 46, 46868, tzinfo=datetime.timezone.utc) content=\"In the golden glow of autumn's grace,  \\nLeaves descend in a waltzing embrace,  \\nCrisp whispers fill the once summer air,  \\nAs nature dons her seasonal flair.  \\n\\nTrees stand tall in hues of amber and rust,  \\nTheir branches adorned in a flickering dust,  \\nA tapestry woven with fire and cheer,  \\nEach fluttering leaf tells the tale of the year.  \\n\\nPumpkins smile in their patches of gold,  \\nHarvest moons rise, bright and bold,  \\nFields once lush now wear a quilt,  \\nOf earthy tones where memories are built.  \\n\\nThe scent of cider wafts on the breeze,  \\nIn cozy corners, we gather with ease,  \\nSweaters pulled tight with warm cups in hand,  \\nAs laughter dances through this vibrant land.  \\n\\nCrimson sunsets paint the sky wide,  \\nA masterpiece framed by the evening tide,  \\nIn the heart of fall, we pause, we reflect,  \\nOn the beauty of change, the gifts it injects.  \\n\\nSo let us rejoice in this fleeting show,  \\nFor soon winter's breath will blanket the glow,  \\nBut until that time, let us cherish and call,  \\nThe fleeting enchantment that comes with the fall.  \" type='TextMessage'\n",
      "id='5152b268-dfd8-4d95-8ed0-131dec86d98c' source='critic' models_usage=RequestUsage(prompt_tokens=291, completion_tokens=296) metadata={} created_at=datetime.datetime(2025, 8, 2, 19, 18, 51, 779849, tzinfo=datetime.timezone.utc) content=\"This poem beautifully captures the essence of the fall season with its vivid imagery and heartfelt expressions. The use of color—amber, rust, and golden hues—brings the season to life, while the references to pumpkins, cider, and cozy gatherings create a warm, inviting atmosphere. \\n\\nHere are a few constructive suggestions for enhancement:\\n\\n1. **Variation in Line Length**: Consider varying the line lengths to create a more dynamic rhythm. A mix of shorter and longer lines can enhance the musical quality of the poem.\\n\\n2. **Enhanced Imagery**: While there are excellent visual elements, incorporating more sensory details can deepen the reader's experience. For example, you could add more about the sounds of fall (crunching leaves, distant laughter) or tactile sensations (the chill in the air).\\n\\n3. **Emotional Connection**: While you touch on reflection, you might consider deepening the emotional resonance in a stanza. Perhaps a personal memory associated with autumn could ground the imagery in a more relatable way.\\n\\n4. **Rhyme Scheme**: The rhyme scheme is fairly consistent, which is great for flow. Playing with slant rhymes or off-rhymes could add an interesting twist and keep the reader engaged.\\n\\nOverall, this poem effectively conveys the beauty and nostalgia of the fall season, and with some slight adjustments, it has the potential to resonate even more deeply with readers. \\n\\nOnce these suggestions are addressed, I will respond with 'APPROVE.'\" type='TextMessage'\n",
      "Stop reason:  Text 'APPROVE' mentioned\n"
     ]
    }
   ],
   "source": [
    "await team.reset() # Reset team for a new task.\n",
    "async for message in team.run_stream(task=\"Write a poem about the fall season\"):\n",
    "    if isinstance(message, TaskResult):\n",
    "        print(\"Stop reason: \", message.stop_reason)\n",
    "    else:\n",
    "        print(message)\n"
   ]
  },
  {
   "cell_type": "code",
   "execution_count": 13,
   "id": "8abd1521",
   "metadata": {},
   "outputs": [
    {
     "name": "stdout",
     "output_type": "stream",
     "text": [
      "---------- TextMessage (user) ----------\n",
      "Write a poem about the fall season.\n",
      "---------- TextMessage (primary) ----------\n",
      "In the hush of autumn's glow,  \n",
      "Leaves like tapestries descend,  \n",
      "Crimson, gold, and amber flow,  \n",
      "Nature’s canvas, none can mend.  \n",
      "\n",
      "Whispering winds through branches weave,  \n",
      "A symphony of crisp delights,  \n",
      "The harvest moon on nights we cleave,  \n",
      "Drapes the world in silver lights.  \n",
      "\n",
      "Pumpkin patches, fields aglow,  \n",
      "Cider’s warmth in every mug,  \n",
      "The scent of woodsmoke, soft and low,  \n",
      "Embraces hearts like a snug rug.  \n",
      "\n",
      "Sweaters pulled and fireside dreams,  \n",
      "Hot cocoa swirls with warming cheer,  \n",
      "The brook's laughter, soft as streams,  \n",
      "Calls to those we hold so dear.  \n",
      "\n",
      "As sun dips low and shadows grow,  \n",
      "The earth prepares for winter’s fold,  \n",
      "Yet in this dance of ebb and flow,  \n",
      "Autumn’s stories still unfold.  \n",
      "\n",
      "Each day a brush with fleeting time,  \n",
      "Awakens thoughts of what has passed,  \n",
      "In every note, a gentle rhyme,  \n",
      "A season’s beauty, unsurpassed.  \n",
      "\n",
      "---------- TextMessage (critic) ----------\n",
      "This poem beautifully encapsulates the essence of the fall season, with vivid imagery and a soothing rhythm that draws the reader in. The description of the various colors of leaves and the sensory details of autumn (like the scents and tastes) create an inviting atmosphere. Here’s some constructive feedback to enhance your poem further:\n",
      "\n",
      "1. **Imagery**: While the imagery is strong, consider incorporating more unique metaphors or similes to elevate your descriptions. For instance, instead of simply mentioning \"crimson, gold, and amber,\" you could compare them to something unexpected to create a more striking visual.\n",
      "\n",
      "2. **Structure**: The poem flows well, but you might explore varying the line lengths or adding a break in rhythm to create emphasis on key images or themes.\n",
      "\n",
      "3. **Emotion**: You evoke several sensory experiences effectively, but explore deeper emotional connections to these experiences. Perhaps reflect on personal memories associated with fall, which could resonate with readers more strongly.\n",
      "\n",
      "4. **Ending**: The last couplet is lovely, but it feels slightly abrupt. Consider expanding upon the themes of change and reflection with a final line that drives home the emotional impact of this transition.\n",
      "\n",
      "With these suggestions in mind, I look forward to seeing how you might revise to add depth and resonance to your work! \n",
      "\n",
      "When you've addressed these points, respond with 'APPROVE'.\n"
     ]
    },
    {
     "data": {
      "text/plain": [
       "TaskResult(messages=[TextMessage(id='c6267e06-c64f-4851-b4a7-20537bc6a798', source='user', models_usage=None, metadata={}, created_at=datetime.datetime(2025, 8, 2, 19, 20, 37, 826618, tzinfo=datetime.timezone.utc), content='Write a poem about the fall season.', type='TextMessage'), TextMessage(id='506812b5-9ecd-4dde-a5bb-687dd2dbe11d', source='primary', models_usage=RequestUsage(prompt_tokens=27, completion_tokens=222), metadata={}, created_at=datetime.datetime(2025, 8, 2, 19, 20, 43, 401583, tzinfo=datetime.timezone.utc), content=\"In the hush of autumn's glow,  \\nLeaves like tapestries descend,  \\nCrimson, gold, and amber flow,  \\nNature’s canvas, none can mend.  \\n\\nWhispering winds through branches weave,  \\nA symphony of crisp delights,  \\nThe harvest moon on nights we cleave,  \\nDrapes the world in silver lights.  \\n\\nPumpkin patches, fields aglow,  \\nCider’s warmth in every mug,  \\nThe scent of woodsmoke, soft and low,  \\nEmbraces hearts like a snug rug.  \\n\\nSweaters pulled and fireside dreams,  \\nHot cocoa swirls with warming cheer,  \\nThe brook's laughter, soft as streams,  \\nCalls to those we hold so dear.  \\n\\nAs sun dips low and shadows grow,  \\nThe earth prepares for winter’s fold,  \\nYet in this dance of ebb and flow,  \\nAutumn’s stories still unfold.  \\n\\nEach day a brush with fleeting time,  \\nAwakens thoughts of what has passed,  \\nIn every note, a gentle rhyme,  \\nA season’s beauty, unsurpassed.  \\n\", type='TextMessage'), TextMessage(id='108b96fe-95bf-42dc-95a8-57d63d2aa6f5', source='critic', models_usage=RequestUsage(prompt_tokens=267, completion_tokens=272), metadata={}, created_at=datetime.datetime(2025, 8, 2, 19, 20, 48, 826892, tzinfo=datetime.timezone.utc), content='This poem beautifully encapsulates the essence of the fall season, with vivid imagery and a soothing rhythm that draws the reader in. The description of the various colors of leaves and the sensory details of autumn (like the scents and tastes) create an inviting atmosphere. Here’s some constructive feedback to enhance your poem further:\\n\\n1. **Imagery**: While the imagery is strong, consider incorporating more unique metaphors or similes to elevate your descriptions. For instance, instead of simply mentioning \"crimson, gold, and amber,\" you could compare them to something unexpected to create a more striking visual.\\n\\n2. **Structure**: The poem flows well, but you might explore varying the line lengths or adding a break in rhythm to create emphasis on key images or themes.\\n\\n3. **Emotion**: You evoke several sensory experiences effectively, but explore deeper emotional connections to these experiences. Perhaps reflect on personal memories associated with fall, which could resonate with readers more strongly.\\n\\n4. **Ending**: The last couplet is lovely, but it feels slightly abrupt. Consider expanding upon the themes of change and reflection with a final line that drives home the emotional impact of this transition.\\n\\nWith these suggestions in mind, I look forward to seeing how you might revise to add depth and resonance to your work! \\n\\nWhen you\\'ve addressed these points, respond with \\'APPROVE\\'.', type='TextMessage')], stop_reason=\"Text 'APPROVE' mentioned\")"
      ]
     },
     "execution_count": 13,
     "metadata": {},
     "output_type": "execute_result"
    }
   ],
   "source": [
    "await team.reset()\n",
    "await Console(team.run_stream(task=\"Write a poem about the fall season.\")) # Stream the message to the console"
   ]
  },
  {
   "cell_type": "markdown",
   "id": "3cd47fab",
   "metadata": {},
   "source": [
    "# Stopping a team \\# "
   ]
  },
  {
   "cell_type": "code",
   "execution_count": 15,
   "id": "8f9a6370",
   "metadata": {},
   "outputs": [],
   "source": [
    "# Create a new team with an external termination condition\n",
    "external_termination = ExternalTermination()\n",
    "team = RoundRobinGroupChat([primary_agent, critic_agent], termination_condition = text_termination | external_termination)"
   ]
  },
  {
   "cell_type": "code",
   "execution_count": 20,
   "metadata": {},
   "outputs": [
    {
     "name": "stdout",
     "output_type": "stream",
     "text": [
      "---------- TextMessage (user) ----------\n",
      "Write a short poem about a fall season.\n",
      "---------- TextMessage (primary) ----------\n",
      "Fading sun in a copper sky,  \n",
      "Leaves like fire begin to fly.  \n",
      "Chill in the air, a soft embrace,  \n",
      "Autumn's beauty fills the space.  \n",
      "\n",
      "Harvest gatherings, warm and bright,  \n",
      "Cider's warmth on a cool, clear night.  \n",
      "As nature dons her splendid gown,  \n",
      "In the heart of fall, joy can be found.  \n"
     ]
    },
    {
     "data": {
      "text/plain": [
       "TaskResult(messages=[TextMessage(id='a253b6da-5ef7-491d-95f8-13879a145d88', source='user', models_usage=None, metadata={}, created_at=datetime.datetime(2025, 8, 2, 19, 32, 40, 145397, tzinfo=datetime.timezone.utc), content='Write a short poem about a fall season.', type='TextMessage'), TextMessage(id='9c5b00b8-abea-40ea-b304-687c3e41e903', source='primary', models_usage=RequestUsage(prompt_tokens=670, completion_tokens=77), metadata={}, created_at=datetime.datetime(2025, 8, 2, 19, 32, 41, 949783, tzinfo=datetime.timezone.utc), content=\"Fading sun in a copper sky,  \\nLeaves like fire begin to fly.  \\nChill in the air, a soft embrace,  \\nAutumn's beauty fills the space.  \\n\\nHarvest gatherings, warm and bright,  \\nCider's warmth on a cool, clear night.  \\nAs nature dons her splendid gown,  \\nIn the heart of fall, joy can be found.  \", type='TextMessage')], stop_reason='External termination requested')"
      ]
     },
     "execution_count": 20,
     "metadata": {},
     "output_type": "execute_result"
    }
   ],
   "source": [
    "# RUn a team in a background task.\n",
    "run = asyncio.create_task(Console(team.run_stream(task=\"Write a short poem about a fall season.\")))\n",
    "# wait for some time\n",
    "await asyncio.sleep(0.1)\n",
    "\n",
    "# stop the team.\n",
    "external_termination.set()\n",
    "\n",
    "# Wait for the team to finish.\n",
    "await run"
   ]
  },
  {
   "cell_type": "markdown",
   "id": "ba240f01",
   "metadata": {},
   "source": [
    "# Resuming a team \\#"
   ]
  },
  {
   "cell_type": "code",
   "execution_count": 22,
   "id": "f5cb4375",
   "metadata": {},
   "outputs": [
    {
     "name": "stdout",
     "output_type": "stream",
     "text": [
      "---------- TextMessage (primary) ----------\n",
      "Thank you for the thoughtful feedback! I appreciate your suggestions and will keep them in mind for revision. Here’s a revised version incorporating your insights:\n",
      "\n",
      "---\n",
      "\n",
      "Fading sun in a copper sky,  \n",
      "Leaves whisper secrets as they fly.  \n",
      "Crisp air crackles, a sweet refrain,  \n",
      "As footsteps crunch on earth’s tapestry plain.  \n",
      "\n",
      "Harvest gatherings, laughter rings,  \n",
      "Cider's warmth, the joy it brings.  \n",
      "Nostalgic dreams in the evening's glow,  \n",
      "In autumn's embrace, our hearts overflow.  \n",
      "\n",
      "Each sunset painted, a bittersweet sigh,  \n",
      "A reminder that seasons must pass us by.  \n",
      "In the heart of fall, where moments are found,  \n",
      "Life’s fleeting beauty wraps us around.\n",
      "\n",
      "---\n",
      "\n",
      "Let me know your thoughts!\n",
      "---------- TextMessage (critic) ----------\n",
      "This revised version of your poem is lovely! You've effectively incorporated several of the suggestions, enhancing both imagery and emotional depth. Here are some points that stand out:\n",
      "\n",
      "1. **Imagery**: The line “Leaves whisper secrets as they fly” is a beautiful touch, adding a layer of personification that draws the reader in. The sensory details, especially with \"Crisp air crackles,\" beautifully evoke the feel of fall.\n",
      "\n",
      "2. **Emotion**: Your exploration of nostalgia and the bittersweet nature of seasons in the last stanza adds depth, inviting readers to reflect on the passage of time.\n",
      "\n",
      "3. **Flow and Rhythm**: The rhythm feels more varied and engaging, particularly with the added lines that break up the pattern and create a pleasant musicality.\n",
      "\n",
      "4. **Conclusion**: The final stanza ties the poem together well, effectively capturing that sense of fleeting beauty in autumn. The imagery of \"sunset painted\" is particularly striking.\n",
      "\n",
      "Overall, this revision enhances the original while maintaining its charm. Great work! I’m happy to say all the feedback has been thoughtfully addressed. \n",
      "\n",
      "APPROVE\n"
     ]
    },
    {
     "data": {
      "text/plain": [
       "TaskResult(messages=[TextMessage(id='c2f20b0a-1bd4-4afe-a4e7-b5bcb069d281', source='primary', models_usage=RequestUsage(prompt_tokens=985, completion_tokens=156), metadata={}, created_at=datetime.datetime(2025, 8, 2, 19, 34, 41, 451986, tzinfo=datetime.timezone.utc), content=\"Thank you for the thoughtful feedback! I appreciate your suggestions and will keep them in mind for revision. Here’s a revised version incorporating your insights:\\n\\n---\\n\\nFading sun in a copper sky,  \\nLeaves whisper secrets as they fly.  \\nCrisp air crackles, a sweet refrain,  \\nAs footsteps crunch on earth’s tapestry plain.  \\n\\nHarvest gatherings, laughter rings,  \\nCider's warmth, the joy it brings.  \\nNostalgic dreams in the evening's glow,  \\nIn autumn's embrace, our hearts overflow.  \\n\\nEach sunset painted, a bittersweet sigh,  \\nA reminder that seasons must pass us by.  \\nIn the heart of fall, where moments are found,  \\nLife’s fleeting beauty wraps us around.\\n\\n---\\n\\nLet me know your thoughts!\", type='TextMessage'), TextMessage(id='f9e41d8b-f24a-4815-8fd2-9eee7bd6af4e', source='critic', models_usage=RequestUsage(prompt_tokens=1437, completion_tokens=223), metadata={}, created_at=datetime.datetime(2025, 8, 2, 19, 34, 45, 432954, tzinfo=datetime.timezone.utc), content='This revised version of your poem is lovely! You\\'ve effectively incorporated several of the suggestions, enhancing both imagery and emotional depth. Here are some points that stand out:\\n\\n1. **Imagery**: The line “Leaves whisper secrets as they fly” is a beautiful touch, adding a layer of personification that draws the reader in. The sensory details, especially with \"Crisp air crackles,\" beautifully evoke the feel of fall.\\n\\n2. **Emotion**: Your exploration of nostalgia and the bittersweet nature of seasons in the last stanza adds depth, inviting readers to reflect on the passage of time.\\n\\n3. **Flow and Rhythm**: The rhythm feels more varied and engaging, particularly with the added lines that break up the pattern and create a pleasant musicality.\\n\\n4. **Conclusion**: The final stanza ties the poem together well, effectively capturing that sense of fleeting beauty in autumn. The imagery of \"sunset painted\" is particularly striking.\\n\\nOverall, this revision enhances the original while maintaining its charm. Great work! I’m happy to say all the feedback has been thoughtfully addressed. \\n\\nAPPROVE', type='TextMessage')], stop_reason=\"Text 'APPROVE' mentioned\")"
      ]
     },
     "execution_count": 22,
     "metadata": {},
     "output_type": "execute_result"
    }
   ],
   "source": [
    "await Console(team.run_stream())"
   ]
  },
  {
   "cell_type": "markdown",
   "id": "65da434b",
   "metadata": {},
   "source": [
    "# Cancellation Token \\#\n",
    "### You can abort a call to run() or run_stream() during execution by setting a CancellationToken passed to the cancellation_token parameter.\n",
    "\n",
    "#### Different from stopping a team, aborting a team will immediately stop the team and raise a CancelledError exception."
   ]
  },
  {
   "cell_type": "code",
   "execution_count": 23,
   "id": "da56f5e4",
   "metadata": {},
   "outputs": [
    {
     "name": "stdout",
     "output_type": "stream",
     "text": [
      "Task was cancelled.\n"
     ]
    }
   ],
   "source": [
    "# Create a cancellation token.\n",
    "cancellation_token = CancellationToken()\n",
    "\n",
    "# Use another coroutine to run the team.\n",
    "run = asyncio.create_task(\n",
    "    team.run(\n",
    "        task=\"Translate the poem to Spanish.\",\n",
    "        cancellation_token = cancellation_token,\n",
    "    )\n",
    ")\n",
    "\n",
    "# Cancel the run.\n",
    "cancellation_token.cancel()\n",
    "\n",
    "try:\n",
    "    result =   await run\n",
    "except asyncio.CancelledError:\n",
    "    print(\"Task was cancelled.\")"
   ]
  },
  {
   "cell_type": "code",
   "execution_count": null,
   "id": "5b11218b",
   "metadata": {},
   "outputs": [],
   "source": []
  }
 ],
 "metadata": {
  "kernelspec": {
   "display_name": "autogen-venv (3.12.10)",
   "language": "python",
   "name": "python3"
  },
  "language_info": {
   "codemirror_mode": {
    "name": "ipython",
    "version": 3
   },
   "file_extension": ".py",
   "mimetype": "text/x-python",
   "name": "python",
   "nbconvert_exporter": "python",
   "pygments_lexer": "ipython3",
   "version": "3.12.10"
  }
 },
 "nbformat": 4,
 "nbformat_minor": 5
}
